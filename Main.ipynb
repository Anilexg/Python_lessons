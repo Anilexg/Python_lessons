{
 "cells": [
  {
   "cell_type": "code",
   "execution_count": 1,
   "id": "initial_id",
   "metadata": {
    "ExecuteTime": {
     "end_time": "2023-10-24T13:23:55.335710700Z",
     "start_time": "2023-10-24T13:23:55.299804600Z"
    },
    "collapsed": true,
    "jupyter": {
     "outputs_hidden": true
    }
   },
   "outputs": [
    {
     "name": "stdout",
     "output_type": "stream",
     "text": [
      "labas\n"
     ]
    }
   ],
   "source": [
    "print (\"labas\"\n",
    "       )"
   ]
  },
  {
   "cell_type": "code",
   "execution_count": 2,
   "id": "2b989b616415871c",
   "metadata": {
    "ExecuteTime": {
     "end_time": "2023-10-24T13:24:39.051510900Z",
     "start_time": "2023-10-24T13:24:38.949831Z"
    },
    "collapsed": false
   },
   "outputs": [
    {
     "name": "stdout",
     "output_type": "stream",
     "text": [
      "hello world\n"
     ]
    }
   ],
   "source": [
    "print (\"hello world\")"
   ]
  },
  {
   "cell_type": "code",
   "execution_count": 1,
   "id": "daf342bf15a352dd",
   "metadata": {
    "collapsed": false
   },
   "outputs": [],
   "source": [
    "test = 2\n",
    "pest = 3"
   ]
  },
  {
   "cell_type": "code",
   "execution_count": 2,
   "id": "9b3feeea-1de3-473d-9a6f-d97fc607961e",
   "metadata": {},
   "outputs": [
    {
     "name": "stdout",
     "output_type": "stream",
     "text": [
      "2\n"
     ]
    }
   ],
   "source": [
    "print (test)"
   ]
  },
  {
   "cell_type": "code",
   "execution_count": 3,
   "id": "c4dabdf4-a33b-44de-9cad-02cd1ac32567",
   "metadata": {},
   "outputs": [
    {
     "name": "stdout",
     "output_type": "stream",
     "text": [
      "5\n"
     ]
    }
   ],
   "source": [
    "ka = test + pest\n",
    "print (ka)"
   ]
  },
  {
   "cell_type": "code",
   "execution_count": 4,
   "id": "a05ec8e0-1da3-47f0-bbda-86e263f255c0",
   "metadata": {},
   "outputs": [
    {
     "name": "stdout",
     "output_type": "stream",
     "text": [
      "15\n"
     ]
    }
   ],
   "source": [
    "k1 = 8\n",
    "k2 = 7\n",
    "result = k1 + k2\n",
    "print(result)"
   ]
  },
  {
   "cell_type": "code",
   "execution_count": 7,
   "id": "23eb92f5-a788-4020-abd3-24cf83e86f65",
   "metadata": {},
   "outputs": [
    {
     "name": "stdout",
     "output_type": "stream",
     "text": [
      "basa su 2 batais\n"
     ]
    }
   ],
   "source": [
    "# soka basos raganaites\n",
    "raganaite1 = 'basa'\n",
    "raganaite2 = 'su 2 batais'\n",
    "grupe = raganaite1 + ' ' + raganaite2\n",
    "print (grupe)"
   ]
  },
  {
   "cell_type": "code",
   "execution_count": 3,
   "id": "3c4f6a22-5e6c-4271-a713-e46cf7b007bd",
   "metadata": {
    "ExecuteTime": {
     "end_time": "2023-10-25T06:10:32.599666200Z",
     "start_time": "2023-10-25T06:10:32.579567Z"
    }
   },
   "outputs": [
    {
     "name": "stdout",
     "output_type": "stream",
     "text": [
      "programiz.pro\n",
      "apple.com\n",
      "Today's date: 2023-10-25\n"
     ]
    }
   ],
   "source": [
    "site_name = 'programiz.pro'\n",
    "print(site_name)\n",
    "\n",
    "# assigning a new value to site_name\n",
    "site_name = 'apple.com'\n",
    "\n",
    "print(site_name)\n",
    "\n",
    "from datetime import date\n",
    "\n",
    "today = date.today()\n",
    "print(\"Today's date:\", today)\n"
   ]
  },
  {
   "cell_type": "code",
   "execution_count": null,
   "outputs": [],
   "source": [],
   "metadata": {
    "collapsed": false
   },
   "id": "c6fc134af550027"
  }
 ],
 "metadata": {
  "kernelspec": {
   "display_name": "Python 3 (ipykernel)",
   "language": "python",
   "name": "python3"
  },
  "language_info": {
   "codemirror_mode": {
    "name": "ipython",
    "version": 3
   },
   "file_extension": ".py",
   "mimetype": "text/x-python",
   "name": "python",
   "nbconvert_exporter": "python",
   "pygments_lexer": "ipython3",
   "version": "3.11.6"
  }
 },
 "nbformat": 4,
 "nbformat_minor": 5
}
